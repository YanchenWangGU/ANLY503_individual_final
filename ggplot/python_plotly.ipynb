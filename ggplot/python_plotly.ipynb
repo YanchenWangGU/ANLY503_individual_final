{
 "cells": [
  {
   "cell_type": "code",
   "execution_count": 25,
   "metadata": {},
   "outputs": [
    {
     "data": {
      "text/html": [
       "<iframe id=\"igraph\" scrolling=\"no\" style=\"border:none;\" seamless=\"seamless\" src=\"https://plot.ly/~yw516/136.embed\" height=\"525px\" width=\"100%\"></iframe>"
      ],
      "text/plain": [
       "<plotly.tools.PlotlyDisplay object>"
      ]
     },
     "execution_count": 25,
     "metadata": {},
     "output_type": "execute_result"
    }
   ],
   "source": [
    "import pandas as pd \n",
    "from sklearn import linear_model\n",
    "import statsmodels.api as sm\n",
    "import plotly.plotly as py\n",
    "import plotly.graph_objs as go\n",
    "\n",
    "import numpy as np\n",
    "\n",
    "df = pd.read_csv('ev_ownership_by_state_long.csv')\n",
    "df = df[df['year']==2018]\n",
    "df1 = pd.read_csv('income.csv')\n",
    "df = pd.merge(df,df1, on = 'state')\n",
    "#X = sm.add_constant(df.income)\n",
    "#model = sm.OLS(df.share,X)\n",
    "#results = model.fit()\n",
    "#results.summary()\n",
    "\n",
    "regr = linear_model.LinearRegression()\n",
    "\n",
    "# Train the model using the training sets\n",
    "regr.fit(np.array(df.income).reshape(51,1),np.array(df.share).reshape(51,1))\n",
    "\n",
    "\n",
    "\n",
    "p1 = go.Scatter(x=df.income.tolist(), \n",
    "                y=df.share.tolist(), \n",
    "                mode='markers',\n",
    "                marker=dict(color='black'),\n",
    "                name='State',\n",
    "                text = df.state.tolist()\n",
    "               )\n",
    "\n",
    "p2 = go.Scatter(x=df.income.tolist(), \n",
    "                y=regr.predict(np.array(df.income).reshape(51,1)),\n",
    "                mode='lines',\n",
    "                name='Regression Line',\n",
    "                line=dict(color='blue', width=3)\n",
    "                )\n",
    "\n",
    "layout = go.Layout(xaxis=dict(title = 'Household Median Income ($)',range=[35000, 80000]),\n",
    "                   yaxis=dict( title = 'Electric Car Market Share (%)',range=[-1, 11]),\n",
    "                   title = 'Electric Car Market Share vs Household Income',\n",
    "                   showlegend=False, hovermode='closest')\n",
    "\n",
    "fig = go.Figure(data=[p1, p2], layout=layout)\n",
    "\n",
    "py.iplot(fig)"
   ]
  },
  {
   "cell_type": "code",
   "execution_count": null,
   "metadata": {},
   "outputs": [],
   "source": []
  }
 ],
 "metadata": {
  "kernelspec": {
   "display_name": "Python 3",
   "language": "python",
   "name": "python3"
  },
  "language_info": {
   "codemirror_mode": {
    "name": "ipython",
    "version": 3
   },
   "file_extension": ".py",
   "mimetype": "text/x-python",
   "name": "python",
   "nbconvert_exporter": "python",
   "pygments_lexer": "ipython3",
   "version": "3.6.5"
  }
 },
 "nbformat": 4,
 "nbformat_minor": 2
}
